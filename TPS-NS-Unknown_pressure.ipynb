{
 "cells": [
  {
   "cell_type": "code",
   "execution_count": 50,
   "id": "71efe3e9",
   "metadata": {},
   "outputs": [],
   "source": [
    "import numpy as np\n",
    "import matplotlib.pyplot as plt\n",
    "import math"
   ]
  },
  {
   "cell_type": "code",
   "execution_count": 51,
   "id": "72bc28ef",
   "metadata": {},
   "outputs": [
    {
     "data": {
      "text/plain": [
       "26"
      ]
     },
     "execution_count": 51,
     "metadata": {},
     "output_type": "execute_result"
    }
   ],
   "source": [
    "px = 5\n",
    "py = 10\n",
    "#c = 6\n",
    "c = px*py\n",
    "t = 30\n",
    "Ly = 1\n",
    "Lx = 10\n",
    "N = (px - 2)*(py - 2)\n",
    "M_4x = px \n",
    "M_4y = py - 2\n",
    "M = 2* M_4x + 2* M_4y\n",
    "a=2\n",
    "b=1\n",
    "M"
   ]
  },
  {
   "cell_type": "code",
   "execution_count": 52,
   "id": "21e4c51c",
   "metadata": {},
   "outputs": [],
   "source": [
    "def euclidian_distance(x,y,xyk,c):\n",
    "    matrix = np.zeros([len(x)*len(y) ,c])\n",
    "    number_matrix = np.zeros([len(x)*len(y),2])\n",
    "    for i in range(0,len(x)):\n",
    "        for j in range(0,len(y)):\n",
    "            n = i\n",
    "            m = j + i*len(y)\n",
    "            matrix[m,:] = np.sqrt(np.square(x[n]- xyk[:,0])  + np.square(y[j] - xyk[:,1])) + (2.2250738585072014e-308)**(1/(2*a))\n",
    "            number_matrix[m,0] = x[n]\n",
    "            number_matrix[m,1] = y[j]\n",
    "    return matrix, number_matrix\n",
    "\n",
    "def points(x,y):\n",
    "    matrix = np.zeros([len(x)*len(y),2])\n",
    "    boundary = np.zeros([4*len(y)-4,2])\n",
    "    interior = np.zeros([(len(x) - 2) * (len(y)-2),2])\n",
    "    h, u = 0,0\n",
    "    for i in range(0,len(x)):\n",
    "        for j in range(0,len(y)):\n",
    "            n = i#%len(x)\n",
    "            m = j + i*len(y)\n",
    "            matrix[m,0] = x[n]\n",
    "            matrix[m,1] = y[j]\n",
    "        \n",
    "            if n == 0 or n == len(x)-1 or j == 0 or j == len(y)-1:\n",
    "                \n",
    "                boundary[h,0] = x[n]\n",
    "                boundary[h,1] = y[j]\n",
    "                h+=1\n",
    "            else:\n",
    "                interior[u,0] = x[n]\n",
    "            \n",
    "                interior[u,1] = y[j]\n",
    "                u+=1\n",
    "    return matrix, boundary, interior"
   ]
  },
  {
   "cell_type": "code",
   "execution_count": 53,
   "id": "b85c154d",
   "metadata": {},
   "outputs": [
    {
     "data": {
      "text/plain": [
       "(50, 1)"
      ]
     },
     "execution_count": 53,
     "metadata": {},
     "output_type": "execute_result"
    }
   ],
   "source": [
    "x = np.linspace(0,Lx,px)\n",
    "y = np.linspace(0,Ly,py)\n",
    "\n",
    "X,Y = np.meshgrid(x,y)\n",
    "\n",
    "#Puntos internos\n",
    "\n",
    "x_int = x[1:-1]\n",
    "y_int = y[1:-1]\n",
    "Xin,Yin = np.meshgrid(x_int,y_int)\n",
    "\n",
    "#Puntos en las fronteras:\n",
    "xf1, yf1 = (x, np.zeros(1)) # f(x,0) \n",
    "X1,Y1 = np.meshgrid(xf1 , yf1)\n",
    "xf2,yf2 = (x, np.ones(1)*Ly) # f(x,L)\n",
    "X2,Y2 = np.meshgrid(xf2 , yf2)\n",
    "xf3,yf3 = (np.zeros(1), y_int ) #f(0,y)\n",
    "X3,Y3 = np.meshgrid(xf3 , yf3)\n",
    "xf4,yf4 = (np.ones(1)*Lx,y_int) #f(L,y)\n",
    "X4,Y4 = np.meshgrid(xf4,yf4)\n",
    "\n",
    "#Centros\n",
    "x_c = np.linspace(0,Lx,px)\n",
    "y_c = np.linspace(0,Ly,py)\n",
    "\n",
    "xk = points(x_c,y_c)[0][:,0].reshape(-1,1)\n",
    "yk = points(x_c,y_c)[0][:,1].reshape(-1,1)\n",
    "#c = len(x_int)\n",
    "xyk1 = np.concatenate((xk,yk),axis = 1)\n",
    "\n",
    "#Puntos test\n",
    "x_test = np.linspace(0,Lx,t)\n",
    "y_test = np.linspace(0,Ly,t)\n",
    "Xt,Yt = np.meshgrid(x_test,y_test)\n",
    "x_vector = points(x,y)[0][:,0].reshape(-1,1)\n",
    "y_vector = points(x,y)[0][:,1].reshape(-1,1)\n",
    "x_vector.shape\n",
    "x_v2 = euclidian_distance(x,y,xyk1,c)[1][:,0].reshape(-1,1)\n",
    "x_v2.shape"
   ]
  },
  {
   "cell_type": "code",
   "execution_count": 54,
   "id": "20d35b7f",
   "metadata": {},
   "outputs": [],
   "source": [
    "def tps_rbf(euclidian_distance,a=a,b=b):\n",
    "    #if euclidian_distance == 0:\n",
    "    #    return 0\n",
    "    #else:\n",
    "    return (euclidian_distance*b)**(2*a) *np.log(b*euclidian_distance) #euclidian_distance + 1e-10 to avoid singularity at zero\n",
    "def tpsdx(x_vector,euclidian_distance,a=a,b=b):\n",
    "        return (x_vector.reshape(-1,1) - xyk1[:,0].reshape(1,-1))/euclidian_distance * (b)**(2*a) *2*a*euclidian_distance**(2*a-1)*(np.log(b*euclidian_distance) + 1)# #euclidian_distance + 1e-10 to avoid singularity at zero  \n",
    "    \n",
    "def tpsdy(y_vector,euclidian_distance,a=a,b=b):\n",
    "        return (b)**(2*a) *(2*a*euclidian_distance**(2*a-1)*np.log(b*euclidian_distance) + b*euclidian_distance**(2*a) /(b*euclidian_distance)) * (y_vector.reshape(-1,1) - xyk1[:,1].reshape(1,-1)) #euclidian_distance + 1e-10 to avoid singularity at zero\n",
    "def tpsdxx(x_vector,euclidian_distance,a=a,b=b):\n",
    "        return ((euclidian_distance**2 - (x_vector.reshape(-1,1) - xyk1[:,0].reshape(1,-1))**2)/euclidian_distance**3 * (b)**(2*a) *2*a*euclidian_distance**(2*a-1)*(np.log(b*euclidian_distance) + 1)\n",
    "                        + ((x_vector.reshape(-1,1) - xyk1[:,0].reshape(1,-1))/euclidian_distance) **2 * b**(2*a) *euclidian_distance**(2*a-2) *((2*a-1)* (2*a*np.log(b*euclidian_distance) ) +2*a))\n",
    "def tpsdyy(y_vector,euclidian_distance,a=a,b=b):\n",
    "        return ((euclidian_distance**2 - (y_vector.reshape(-1,1) - xyk1[:,1].reshape(1,-1))**2)/euclidian_distance**3 * (b)**(2*a) *2*a*euclidian_distance**(2*a-1)*(np.log(b*euclidian_distance) + 1)\n",
    "                        + ((y_vector.reshape(-1,1) - xyk1[:,1].reshape(1,-1))/euclidian_distance) **2 * b**(2*a) *euclidian_distance**(2*a-2) *((2*a-1)* (2*a*np.log(b*euclidian_distance) ) +2*a))"
   ]
  },
  {
   "cell_type": "code",
   "execution_count": 55,
   "id": "3041999d",
   "metadata": {},
   "outputs": [],
   "source": [
    "euclidian_dist_complete = euclidian_distance(x,y,xyk1,c)[0]\n",
    "euclidian_dist_int = euclidian_distance(x_int,y_int,xyk1,c)[0]\n",
    "\n",
    "euclidian_dist_border1 = euclidian_distance(xf1,yf1,xyk1,c)[0]\n",
    "euclidian_dist_border2 = euclidian_distance(xf2,yf2,xyk1,c)[0]\n",
    "euclidian_dist_border3 = euclidian_distance(xf3,yf3,xyk1,c)[0]\n",
    "euclidian_dist_border4 = euclidian_distance(xf4,yf4,xyk1,c)[0]"
   ]
  },
  {
   "cell_type": "code",
   "execution_count": 56,
   "id": "0564df92",
   "metadata": {},
   "outputs": [
    {
     "data": {
      "text/plain": [
       "(8, 50)"
      ]
     },
     "execution_count": 56,
     "metadata": {},
     "output_type": "execute_result"
    }
   ],
   "source": [
    "x_vector_int = euclidian_distance(x_int,y_int,xyk1,c)[1][:,0]\n",
    "y_vector_int = euclidian_distance(x_int,y_int,xyk1,c)[1][:,1]\n",
    "euclidian_dist_border3.shape"
   ]
  },
  {
   "cell_type": "code",
   "execution_count": 57,
   "id": "ef4c12a5",
   "metadata": {},
   "outputs": [
    {
     "data": {
      "image/png": "[encoded data removed]",
      "text/plain": [
       "<Figure size 640x480 with 1 Axes>"
      ]
     },
     "metadata": {},
     "output_type": "display_data"
    }
   ],
   "source": [
    "#Plot the colocation points\n",
    "fig = plt.figure()\n",
    "ax = fig.add_subplot(111)\n",
    "ax.set_xlim([-0.3,Lx*1.05])\n",
    "ax.set_ylim([-0.2,Ly*1.1])\n",
    "ax.scatter(Xin,Yin,marker='s', color='red')\n",
    "ax.scatter(X1,Y1,marker='s', color = 'blue')\n",
    "\n",
    "ax.scatter(X2,Y2,marker='s', color = 'cyan')\n",
    "ax.scatter(X3,Y3,marker='s', color = 'green')\n",
    "ax.scatter(X4,Y4,marker = 's' ,color = 'yellow')\n",
    "#ax.scatter(XC,YC, color = 'black')\n",
    "plt.show()"
   ]
  },
  {
   "cell_type": "code",
   "execution_count": 61,
   "id": "7d87ddbe",
   "metadata": {},
   "outputs": [],
   "source": [
    "gxx_int = (tpsdxx(x_vector_int,euclidian_dist_int)) \n",
    "gyy_int =  (tpsdyy(y_vector_int,euclidian_dist_int)) \n",
    "gx_int = (tpsdx(x_vector_int,euclidian_dist_int)) \n",
    "gy_int = tpsdy(y_vector_int,euclidian_dist_int)\n",
    "g_int = tps_rbf(euclidian_dist_int)\n",
    "gx_b4 = tpsdx(np.ones_like(y_int)*Lx,euclidian_dist_border4 )\n",
    "gy_b4 = tpsdy(y_int,euclidian_dist_border4)\n",
    "gxx_b4 = tpsdxx(np.ones_like(y_int)*Lx,euclidian_dist_border4)\n",
    "gyy_b4 = tpsdyy(y_int,euclidian_dist_border4)\n",
    "gb2 = tps_rbf(euclidian_dist_border2)\n",
    "gb3 = tps_rbf(euclidian_dist_border3)\n",
    "gxx_b3 = tpsdxx(np.zeros_like(y_int),euclidian_dist_border3)\n",
    "gyy_b3 = tpsdyy(y_int,euclidian_dist_border3)\n",
    "gx_b3 = tpsdx(np.zeros_like(y_int),euclidian_dist_border3)\n",
    "gy_b3 = tpsdy(y_int,euclidian_dist_border3)\n",
    "\n",
    "gb1 = tps_rbf(euclidian_dist_border1)\n",
    "gb4 = tps_rbf(euclidian_dist_border4)\n",
    "\n",
    "gxx_b2 = tpsdxx(x,euclidian_dist_border2)\n",
    "gxx_b1 = tpsdxx(x,euclidian_dist_border1)\n",
    "gyy_b2 = tpsdyy(np.ones_like(x)*Ly,euclidian_dist_border2)\n",
    "gyy_b1 = tpsdyy(np.zeros_like(x),euclidian_dist_border1)\n",
    "\n",
    "gy_b2 = tpsdy(np.ones_like(x)*Ly,euclidian_dist_border2)\n",
    "gy_b1 = tpsdy(np.zeros_like(x),euclidian_dist_border1)"
   ]
  },
  {
   "cell_type": "code",
   "execution_count": 62,
   "id": "fe08de61",
   "metadata": {},
   "outputs": [],
   "source": [
    "phidphidx = np.array([ g_int[:,i] * gx_int[:,j] for i in range(g_int.shape[1]) for j in range(gx_int.shape[1])]  ).T\n",
    "phidphidy = np.array([g_int[:,i] * gy_int[:,j] for i in range(g_int.shape[1]) for j in range(gy_int.shape[1])] ).T\n",
    "\n",
    "phidphidx_b3 = np.array([ gb3[:,i] * gx_b3[:,j] for i in range(gxx_b3.shape[1]) for j in range(gx_b3.shape[1])]  ).T\n",
    "phidphidx_b4 = np.array([ gb4[:,i] * gx_b4[:,j] for i in range(gxx_b4.shape[1]) for j in range(gx_b4.shape[1])]  ).T\n",
    "phidphidy_b3 = np.array([ gb3[:,i] * gy_b3[:,j] for i in range(gxx_b3.shape[1]) for j in range(gy_b3.shape[1])]  ).T\n",
    "phidphidy_b4 = np.array([ gb4[:,i] * gy_b4[:,j] for i in range(gxx_b4.shape[1]) for j in range(gy_b4.shape[1])]  ).T\n",
    "\n",
    "#phidphidy_b4.shape\n"
   ]
  },
  {
   "cell_type": "code",
   "execution_count": 63,
   "id": "10fc0389",
   "metadata": {},
   "outputs": [],
   "source": [
    "weights = np.random.rand(3*px*py,1)\n",
    "wx = weights[:N+M].reshape(-1,1)\n",
    "wy = weights[N+M:2*(N+M)].reshape(-1,1)\n",
    "wp = weights[2*(N+M):3*(N+M)].reshape(-1,1)"
   ]
  },
  {
   "cell_type": "code",
   "execution_count": 67,
   "id": "fa8dd729",
   "metadata": {},
   "outputs": [],
   "source": [
    "\n",
    "def NavierStokess(weights):\n",
    "        \n",
    "    wx = weights[:N+M].reshape(-1,1)\n",
    "    wy = weights[N+M:2*(N+M)].reshape(-1,1)\n",
    "    wp = weights[2*(N+M):3*(N+M)].reshape(-1,1)\n",
    "    wxiwxj = np.array([ wx[i]*wx[j] for i in range(len(wx)) for j in range(len(wy))])\n",
    "    wyiwyj = np.array([ wy[i]*wy[j] for i in range(len(wx)) for j in range(len(wy))])\n",
    "    wxiwyj = np.array([ wx[i]*wy[j] for i in range(len(wx)) for j in range(len(wy))])\n",
    "    wyiwxj = np.array([ wy[i]*wx[j] for i in range(len(wx)) for j in range(len(wy))])\n",
    "    #weights = np.concatenate((wx,wxiwxj,wyiwxj,wy,wxiwyj,wyiwyj),axis = 0)\n",
    "    \n",
    "    \n",
    "    F = np.zeros(((3*N+ 6*(M_4x) + 6*(M_4y)),))\n",
    "    #Ecuaiones diferenciales en puntos internos\n",
    "        #Ecuacion en x\n",
    "    F[0:N] +=  ( -np.dot(gxx_int,wx) - np.dot(gyy_int,wx) + np.dot(gx_int,wp) + np.dot(phidphidx,wxiwxj) + np.dot(phidphidy,wyiwxj)).flatten()\n",
    "        #   Ecuacione en y\n",
    "    F[N:2*N] += (-np.dot(gxx_int,wy) - np.dot(gyy_int,wy) + np.dot(gy_int,wp) + np.dot(phidphidx,wxiwyj) + np.dot(phidphidy,wyiwyj)).flatten() \n",
    "        #Ecuacion de continuidad\n",
    "    F[2*N:3*N] += (np.dot(gx_int,wx) + np.dot(gy_int,wy)).flatten()\n",
    "    \n",
    "    #Condiciones de frontera\n",
    "    \n",
    "        # Condiciones de ux\n",
    "    F[3*N  : 3*N +  M_4x] = ( np.dot( gb2 , wx ) ).flatten()\n",
    "    F[3*N + ( M_4x): 3*N + 2 * ( M_4x)] = (np.dot(gb1,wx)).flatten()\n",
    "    F[3*N + 2 * ( M_4x ):3*N + 2 * ( M_4x ) + (M_4y)] = (np.dot(gb3,wx) - 1.0).flatten()\n",
    "    \n",
    "    \n",
    "        #Condiciones de uy\n",
    "    F[3*N + 2 * ( M_4x) + M_4y : 3*N + 3 * ( M_4x ) + M_4y] = (np.dot(gb2,wy)).flatten()\n",
    "    F[3*N + 3 * ( M_4x ) + M_4y:3*N + 4 * ( M_4x ) + M_4y] = (np.dot(gb1,wy)).flatten()\n",
    "    F[3*N + 4 * ( M_4x ) + M_4y:3*N + 4 * ( M_4x ) + 2 * (M_4y)] = (np.dot(gb3,wy)).flatten()\n",
    "    \n",
    "        #Condiciones de p\n",
    "    F[3*N + 4 * ( M_4x ) + 2 * (M_4y):3*N + 4 * ( M_4x ) + 3 * (M_4y)] = (np.dot(gb3,wp)).flatten()\n",
    "    #Ecuaciones diferenciales en las fronteras\n",
    "        #Ecuaciones en frontera de salida\n",
    "    F[ 3*N + 4 * ( M_4x ) + 3 * (M_4y) :  3*N + 4 * ( M_4x ) + 4 * (M_4y)] = (np.dot(gx_b4,wx) + np.dot(gy_b4,wy)).flatten()\n",
    "    F[3*N + 4 * ( M_4x ) + 4 * (M_4y):3*N + 4 * ( M_4x ) + 5 * (M_4y)] = (np.dot(gx_b4,wy)).flatten()\n",
    "    F[3*N + 4 * ( M_4x ) + 5 * (M_4y):3*N + 4 * ( M_4x ) + 6 * (M_4y)] = ( -np.dot(gxx_b4,wx) - np.dot(gyy_b4,wx) + np.dot(gx_b4,wp) + np.dot(phidphidx_b4,wxiwxj) + np.dot(phidphidy_b4,wyiwxj)).flatten()\n",
    "        #Ecuacion en frontera superior\n",
    "    F[3*N + 4 * ( M_4x ) + 6 * (M_4y):3*N + 5 * ( M_4x ) + 6 * (M_4y) ] = (-np.dot(gxx_b2,wx) - np.dot(gyy_b2,wx) + np.dot(gy_b2,wp)).flatten()\n",
    "        #Ecuacion en frontera inferior\n",
    "    F[3*N + 5 * ( M_4x ) + 6 * (M_4y):3*N + 6 * ( M_4x ) + 6 * (M_4y)] = (-np.dot(gxx_b1,wx) - np.dot(gyy_b1,wx) + np.dot(gy_b1,wp)).flatten()\n",
    "    return F#,F.shape\n",
    "    \n",
    "    "
   ]
  },
  {
   "cell_type": "code",
   "execution_count": null,
   "id": "59105d01",
   "metadata": {},
   "outputs": [
    {
     "data": {
      "text/plain": [
       "array([-1.40859968e+09, -1.32934391e+09, -1.25345042e+09, -1.18035692e+09,\n",
       "       -1.10952041e+09, -1.04041009e+09, -9.72500434e+08, -9.05264111e+08,\n",
       "       -3.66100910e+07, -2.64395002e+07, -1.66393163e+07, -7.06460176e+06,\n",
       "        2.42472682e+06,  1.19669521e+07,  2.17015252e+07,  3.17721075e+07,\n",
       "        6.86316741e+08,  7.78612775e+08,  8.70940684e+08,  9.63991520e+08,\n",
       "        1.05845152e+09,  1.15501076e+09,  1.25437177e+09,  1.35725832e+09,\n",
       "       -1.08999520e+09, -1.03041244e+09, -9.73678656e+08, -9.19334619e+08,\n",
       "       -8.66940033e+08, -8.16066978e+08, -7.66293427e+08, -7.17196832e+08,\n",
       "       -1.31243618e+07, -4.32999591e+06,  4.15581676e+06,  1.24634988e+07,\n",
       "        2.07186681e+07,  2.90451145e+07,  3.75676597e+07,  4.64150512e+07,\n",
       "        6.68549236e+08,  7.70681030e+08,  8.72534506e+08,  9.74875017e+08,\n",
       "        1.07846042e+09,  1.18405072e+09,  1.29241776e+09,  1.40435479e+09,\n",
       "       -3.95432489e+04, -3.74401633e+04, -3.53769387e+04, -3.33453578e+04,\n",
       "       -3.13373439e+04, -2.93448874e+04, -2.73599682e+04, -2.53744801e+04,\n",
       "       -4.85897431e+03, -3.86696992e+03, -2.89622858e+03, -1.93998208e+03,\n",
       "       -9.91569204e+02, -4.43562773e+01,  9.08335176e+02,  1.87330014e+03,\n",
       "        1.70465958e+04,  1.98288436e+04,  2.25984603e+04,  2.53652325e+04,\n",
       "        2.81388480e+04,  3.09289677e+04,  3.37453006e+04,  3.65976714e+04,\n",
       "        1.52011056e+05,  3.84597316e+04,  1.05252993e+04,  3.46296064e+04,\n",
       "        1.39871227e+05,  1.51391817e+05,  3.81398261e+04,  1.03895985e+04,\n",
       "        3.45734712e+04,  1.39823767e+05,  1.51048583e+05,  1.50809572e+05,\n",
       "        1.50673329e+05,  1.50639572e+05,  1.50708191e+05,  1.50879243e+05,\n",
       "        1.51152951e+05,  1.51529701e+05,  1.14206758e+05,  2.67653286e+04,\n",
       "        8.84917261e+03,  3.77009584e+04,  1.56069450e+05,  1.14166874e+05,\n",
       "        2.68044558e+04,  8.98722177e+03,  3.80525751e+04,  1.56758588e+05,\n",
       "        1.13817067e+05,  1.13556431e+05,  1.13384427e+05,  1.13300702e+05,\n",
       "        1.13305090e+05,  1.13397606e+05,  1.13578445e+05,  1.13847979e+05,\n",
       "        1.65426089e+05,  1.65068977e+05,  1.64828535e+05,  1.64704318e+05,\n",
       "        1.64696070e+05,  1.64803732e+05,  1.65027442e+05,  1.65367538e+05,\n",
       "        5.23903542e+04,  6.10397859e+04,  6.96766801e+04,  7.83177709e+04,\n",
       "        8.69797178e+04,  9.56791596e+04,  1.04432768e+05,  1.13257306e+05,\n",
       "        1.02148420e+05,  1.01992517e+05,  1.01881576e+05,  1.01815568e+05,\n",
       "        1.01794482e+05,  1.01818320e+05,  1.01887099e+05,  1.02000854e+05,\n",
       "        8.42113531e+09,  9.58794242e+09,  1.07557424e+10,  1.19292701e+10,\n",
       "        1.31132484e+10,  1.43124209e+10,  1.55315848e+10,  1.67756239e+10,\n",
       "        4.17581102e+03, -3.00813216e+03, -4.70282592e+03, -5.64912091e+03,\n",
       "       -4.43737028e+03, -7.77719878e+04, -2.99905031e+04, -1.45019971e+04,\n",
       "       -2.60940412e+04, -6.73641268e+04])"
      ]
     },
     "execution_count": 68,
     "metadata": {},
     "output_type": "execute_result"
    }
   ],
   "source": [
    "from scipy.optimize import least_squares\n",
    "\n",
    "# Define el vector inicial\n",
    "x0 = (weights.reshape(-1) ) # tamaño_total = tamaño del vector weights\n",
    "print(NavierStokess(weights).shape[0] >= x0.shape[0])\n",
    "# Llamas al solucionador\n",
    "resultado2 = least_squares(NavierStokess, x0, method='lm') "
   ]
  },
  {
   "cell_type": "code",
   "execution_count": null,
   "id": "8b1a7c6a",
   "metadata": {},
   "outputs": [],
   "source": []
  }
 ],
 "metadata": {
  "kernelspec": {
   "display_name": "Python 3",
   "language": "python",
   "name": "python3"
  },
  "language_info": {
   "codemirror_mode": {
    "name": "ipython",
    "version": 3
   },
   "file_extension": ".py",
   "mimetype": "text/x-python",
   "name": "python",
   "nbconvert_exporter": "python",
   "pygments_lexer": "ipython3",
   "version": "3.10.11"
  }
 },
 "nbformat": 4,
 "nbformat_minor": 5
}
