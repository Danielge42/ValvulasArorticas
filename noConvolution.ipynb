{
 "cells": [
  {
   "cell_type": "code",
   "execution_count": 179,
   "metadata": {},
   "outputs": [],
   "source": [
    "import numpy as np\n",
    "import tensorflow as tf\n",
    "import matplotlib.pyplot as plt\n",
    "from tensorflow.keras.datasets import mnist"
   ]
  },
  {
   "cell_type": "code",
   "execution_count": 180,
   "metadata": {},
   "outputs": [],
   "source": [
    "w1 = np.random.rand(128, 28)/100\n",
    "b1 = np.random.rand(128,28)/100\n",
    "w2 = np.random.rand(10, 128)/100\n",
    "b2 = np.random.rand(10,28)/100\n",
    "w3 = np.random.rand(28, 1)/100"
   ]
  },
  {
   "cell_type": "code",
   "execution_count": 181,
   "metadata": {},
   "outputs": [],
   "source": [
    "# Load the dataset (grayscale)\n",
    "(train_images, train_labels), (test_images, test_labels) = mnist.load_data()\n",
    "# Normalize the images to [0, 1]\n",
    "train_images = train_images / 255.0\n",
    "test_images = test_images / 255.0"
   ]
  },
  {
   "cell_type": "code",
   "execution_count": 182,
   "metadata": {},
   "outputs": [
    {
     "data": {
      "text/plain": [
       "(28, 28)"
      ]
     },
     "execution_count": 182,
     "metadata": {},
     "output_type": "execute_result"
    }
   ],
   "source": [
    "train_images[0].shape"
   ]
  },
  {
   "cell_type": "code",
   "execution_count": 183,
   "metadata": {},
   "outputs": [],
   "source": [
    "def model(input):\n",
    "    output = w1 @ input + b1\n",
    "    output = np.maximum(0, output)\n",
    "    output = w2 @ output + b2\n",
    "    output = np.maximum(0,output)\n",
    "    output = output @ w3\n",
    "    output = np.maximum(0,output)\n",
    "    return output"
   ]
  },
  {
   "cell_type": "code",
   "execution_count": 184,
   "metadata": {},
   "outputs": [
    {
     "data": {
      "text/plain": [
       "array([[0.00239579],\n",
       "       [0.00232259],\n",
       "       [0.00245733],\n",
       "       [0.00237833],\n",
       "       [0.0026729 ],\n",
       "       [0.00243549],\n",
       "       [0.00252914],\n",
       "       [0.00221637],\n",
       "       [0.00227516],\n",
       "       [0.00250544]])"
      ]
     },
     "execution_count": 184,
     "metadata": {},
     "output_type": "execute_result"
    }
   ],
   "source": [
    "model(train_images[3])"
   ]
  },
  {
   "cell_type": "code",
   "execution_count": 185,
   "metadata": {},
   "outputs": [],
   "source": [
    "def loss_function(predicted, target):\n",
    "    target_vector = np.zeros_like(predicted)\n",
    "    target_vector[target] = 1\n",
    "    return ((predicted - target_vector) ** 2)"
   ]
  },
  {
   "cell_type": "code",
   "execution_count": 186,
   "metadata": {},
   "outputs": [],
   "source": [
    "def mse_loss_derivative(predicted, target):\n",
    "    target_vector = np.zeros_like(predicted)\n",
    "    target_vector[target] = 1\n",
    "    return 2 * (predicted - target_vector)"
   ]
  },
  {
   "cell_type": "code",
   "execution_count": 187,
   "metadata": {},
   "outputs": [],
   "source": [
    "def dRelu(input):\n",
    "    return np.where(input > 0, 1, 0)"
   ]
  },
  {
   "cell_type": "code",
   "execution_count": 188,
   "metadata": {},
   "outputs": [],
   "source": [
    "def gradient_descent(learning_rate,w1,w2,w3,b1,b2,epochs,i=0):\n",
    "    #global train_images , train_labels\n",
    "    index = np.random.randint(0,train_images.shape[0])\n",
    "    input = train_images[index]\n",
    "    target = train_labels[index]\n",
    "    \n",
    "    \n",
    "    predicted = model(input)\n",
    "    output_1 = w1 @ input + b1\n",
    "    output_1 = np.maximum(0, output_1)\n",
    "    output_2 = w2 @ output_1 + b2   # Pre-activation output of the second layer\n",
    "    output_2 = np.maximum(0, output_2) \n",
    "    output_final = output_2 @ w3\n",
    "    output_final = np.maximum(0, output_final) / np.max(output_final)\n",
    "    loss = loss_function(predicted, target)\n",
    "    dL_dOutput = mse_loss_derivative(predicted, target)\n",
    "    dOutput_w3 =  output_2  # This is the input to w3\n",
    "    \n",
    "    dL_dw3 =   dOutput_w3.T @ np.multiply(dL_dOutput,dRelu(output_final))\n",
    "    \n",
    " \n",
    "    dL_dw2 = np.multiply(np.multiply(dL_dOutput,dRelu(output_final)) @ w3.T,dRelu(output_2)) @ output_1.T\n",
    "    \n",
    "    \n",
    "    dL_db2 = np.multiply(np.multiply(dL_dOutput,dRelu(output_final)) @ w3.T,dRelu(output_2))\n",
    "    \n",
    "    dL_dw1 = np.multiply(w2.T @ np.multiply(np.multiply(dL_dOutput,dRelu(output_final)) @ w3.T,dRelu(output_2)),dRelu(output_1)) @ input.T\n",
    "\n",
    "    dL_db1 = np.multiply(w2.T @ np.multiply(np.multiply(dL_dOutput,dRelu(output_final)) @ w3.T,dRelu(output_2)),dRelu(output_1))\n",
    "    w1 -= learning_rate * dL_dw1\n",
    "    b1 -= learning_rate * dL_db1\n",
    "    w2 -= learning_rate * dL_dw2\n",
    "    b2 -= learning_rate * dL_db2\n",
    "    w3 -= learning_rate * dL_dw3\n",
    "    if i % 100 == 0:\n",
    "        print(f'Epoch: {i}, Loss: {np.mean(loss)}')\n",
    "        #print(np.sum(dL_dw1))\n",
    "    if i == epochs:    \n",
    "        return loss\n",
    "    return gradient_descent(learning_rate,w1,w2,w3,b1,b2,epochs,i+1)\n",
    "    \n",
    "    "
   ]
  },
  {
   "cell_type": "code",
   "execution_count": 218,
   "metadata": {},
   "outputs": [
    {
     "name": "stdout",
     "output_type": "stream",
     "text": [
      "Epoch: 0, Loss: 0.07972494821246891\n",
      "Epoch: 100, Loss: 0.00808670511502296\n",
      "Epoch: 200, Loss: 0.015394136963502498\n",
      "Epoch: 300, Loss: 0.017955660289404974\n",
      "Epoch: 400, Loss: 0.09635799173543072\n",
      "Epoch: 500, Loss: 0.056493021223456674\n",
      "Epoch: 600, Loss: 0.021262730707381793\n",
      "Epoch: 700, Loss: 0.012870086890949367\n",
      "Epoch: 800, Loss: 0.03429554243335863\n",
      "Epoch: 900, Loss: 0.028083025225454288\n",
      "Epoch: 1000, Loss: 0.009488265015589652\n",
      "Epoch: 1100, Loss: 0.09529957588519872\n",
      "Epoch: 1200, Loss: 0.01674858615690943\n",
      "Epoch: 1300, Loss: 0.08025750547713309\n",
      "Epoch: 1400, Loss: 0.045704668243095485\n",
      "Epoch: 1500, Loss: 0.03933045468662966\n",
      "Epoch: 1600, Loss: 0.05849630812907973\n",
      "Epoch: 1700, Loss: 0.15688796320463755\n",
      "Epoch: 1800, Loss: 0.05704453374040334\n",
      "Epoch: 1900, Loss: 0.06719794497998452\n",
      "Epoch: 2000, Loss: 0.035575339260077894\n"
     ]
    },
    {
     "data": {
      "text/plain": [
       "array([[5.86567673e-04],\n",
       "       [6.61560669e-03],\n",
       "       [1.84569585e-02],\n",
       "       [1.64813558e-03],\n",
       "       [0.00000000e+00],\n",
       "       [1.36300215e-03],\n",
       "       [2.91598964e-04],\n",
       "       [7.53225894e-07],\n",
       "       [3.26570666e-01],\n",
       "       [2.20104038e-04]])"
      ]
     },
     "execution_count": 218,
     "metadata": {},
     "output_type": "execute_result"
    }
   ],
   "source": [
    "gradient_descent( 0.001,w1,w2,w3,b1,b2,2000)"
   ]
  },
  {
   "cell_type": "code",
   "execution_count": 221,
   "metadata": {},
   "outputs": [
    {
     "name": "stdout",
     "output_type": "stream",
     "text": [
      "Accuracy:  66.8\n"
     ]
    }
   ],
   "source": [
    "## Test\n",
    "rights = 0\n",
    "for i in range(1000):\n",
    "    k = np.random.randint(len(test_images))\n",
    "    predicted = model(test_images[k])\n",
    "    \n",
    "    if(np.argmax(predicted) == test_labels[k]):\n",
    "        rights += 1\n",
    "print(\"Accuracy: \", rights/10)"
   ]
  }
 ],
 "metadata": {
  "kernelspec": {
   "display_name": "Python (myenv)",
   "language": "python",
   "name": "myenv"
  },
  "language_info": {
   "codemirror_mode": {
    "name": "ipython",
    "version": 3
   },
   "file_extension": ".py",
   "mimetype": "text/x-python",
   "name": "python",
   "nbconvert_exporter": "python",
   "pygments_lexer": "ipython3",
   "version": "3.12.3"
  }
 },
 "nbformat": 4,
 "nbformat_minor": 2
}
